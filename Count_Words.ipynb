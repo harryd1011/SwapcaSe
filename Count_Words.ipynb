{
 "cells": [
  {
   "cell_type": "code",
   "execution_count": 3,
   "id": "1c8cd0d6",
   "metadata": {},
   "outputs": [
    {
     "name": "stdout",
     "output_type": "stream",
     "text": [
      "Number of words:4\n",
      "Words:\n",
      "bcdef\n",
      "abcdefg\n",
      "bcde\n",
      "bcdef\n",
      "3\n",
      "2 1 1 "
     ]
    }
   ],
   "source": [
    "# ID: 20CE028, Name:Harsh Dubey\n",
    "# AIM: You are given n words. Some words may repeat. For each word, output its number of occurrences. \n",
    "#     The output order should correspond with the input order of appearance of the word. \n",
    "#     See the sample input/output for clarification.\n",
    "from collections import Counter,OrderedDict\n",
    "class OrderedCounter(Counter,OrderedDict):\n",
    "    pass\n",
    "word_array= [] \n",
    "# array to store the number of words entered.\n",
    "n= int(input(\"Number of words:\")) \n",
    "print(\"Words:\")\n",
    "for i in range(n):\n",
    "    word_array.append(input().strip())\n",
    "word_ctr = OrderedCounter(word_array)\n",
    "print(len(word_ctr))\n",
    "for word in word_ctr:\n",
    "    print(word_ctr[word],end=' ')"
   ]
  },
  {
   "cell_type": "code",
   "execution_count": null,
   "id": "ba291a90",
   "metadata": {},
   "outputs": [],
   "source": []
  }
 ],
 "metadata": {
  "kernelspec": {
   "display_name": "Python 3 (ipykernel)",
   "language": "python",
   "name": "python3"
  },
  "language_info": {
   "codemirror_mode": {
    "name": "ipython",
    "version": 3
   },
   "file_extension": ".py",
   "mimetype": "text/x-python",
   "name": "python",
   "nbconvert_exporter": "python",
   "pygments_lexer": "ipython3",
   "version": "3.7.3"
  }
 },
 "nbformat": 4,
 "nbformat_minor": 5
}
